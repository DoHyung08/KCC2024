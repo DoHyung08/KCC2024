{
 "cells": [
  {
   "cell_type": "code",
   "execution_count": 1,
   "metadata": {},
   "outputs": [],
   "source": [
    "USE_GUI = True\n",
    "NUM_SECONDS = 1800#실행 시간 1800 = 60초 x 30 = 30분"
   ]
  },
  {
   "cell_type": "code",
   "execution_count": 2,
   "metadata": {},
   "outputs": [],
   "source": [
    "class DefaultConfig:#기본 설정\n",
    "    name = \"default\"\n",
    "    use_gui = USE_GUI\n",
    "    num_seconds = NUM_SECONDS\n",
    "    tailgating = False#꼬리물기를 하지 않음\n",
    "    default_mode = 31\n",
    "\n",
    "\n",
    "class OverspeedConfig:#과속 환경\n",
    "    name = \"overspeed\"\n",
    "    use_gui = USE_GUI\n",
    "    num_seconds = NUM_SECONDS\n",
    "    tailgating = False#꼬리물기는 하지 않음\n",
    "    default_mode = 24#기본 스피드모드 변경\n",
    "    \n",
    "\n",
    "class TailgatingConfig:#꼬리물기 환경\n",
    "    name = \"tailgating\"\n",
    "    use_gui = USE_GUI\n",
    "    num_seconds = NUM_SECONDS\n",
    "    tailgating = True#꼬리물기 함\n",
    "    default_mode = 31\n",
    "    \n",
    "\n",
    "class TailgatingOverspeedConfig:#꼬리물기 + 과속 환경\n",
    "    name = \"tailgating_overspeed\"\n",
    "    use_gui = USE_GUI\n",
    "    num_seconds = NUM_SECONDS\n",
    "    tailgating = True#꼬리물기 함\n",
    "    default_mode = 24#기본 스피드모드 변경으로 과속도 함"
   ]
  },
  {
   "cell_type": "code",
   "execution_count": null,
   "metadata": {},
   "outputs": [],
   "source": [
    "import warnings\n",
    "warnings.filterwarnings(\"ignore\")\n",
    "\n",
    "from tqdm import tqdm#실행 바 출력하는 라이브러리\n",
    "from traffic_tail.environment import create_env\n",
    "\n",
    "config = DefaultConfig()\n",
    "env = create_env(config)\n",
    "\n",
    "total_reward = 0\n",
    "state = env.reset()\n",
    "done = {\"__all__\": False}\n",
    "\n",
    "pbar = tqdm(total=config.num_seconds, desc=\"Simulating\")\n",
    "while not done[\"__all__\"]:\n",
    "    actions = {\n",
    "        ts_id: env.action_spaces(ts_id).sample()\n",
    "        for ts_id in env.ts_ids\n",
    "    }\n",
    "    state, reward, done, _ = env.step(actions)\n",
    "    total_reward += sum(reward.values())\n",
    "    pbar.update(env.delta_time)\n",
    "\n",
    "env.close()\n",
    "print(f\"Total reward: {total_reward}\")"
   ]
  },
  {
   "cell_type": "code",
   "execution_count": 17,
   "metadata": {},
   "outputs": [
    {
     "name": "stdout",
     "output_type": "stream",
     "text": [
      "Creating overspeed environment.\n"
     ]
    },
    {
     "name": "stderr",
     "output_type": "stream",
     "text": [
      "Simulating:  79%|███████▊  | 1415/1800 [01:46<00:29, 13.26it/s]\n",
      "Simulating: 100%|██████████| 1800/1800 [04:56<00:00,  1.97it/s]"
     ]
    },
    {
     "name": "stdout",
     "output_type": "stream",
     "text": [
      "Total reward: -241.36\n"
     ]
    }
   ],
   "source": [
    "import warnings\n",
    "warnings.filterwarnings(\"ignore\")\n",
    "\n",
    "from tqdm import tqdm\n",
    "from traffic_tail.environment import create_env\n",
    "\n",
    "config = OverspeedConfig()\n",
    "env = create_env(config)\n",
    "\n",
    "total_reward = 0\n",
    "state = env.reset()\n",
    "done = {\"__all__\": False}\n",
    "\n",
    "pbar = tqdm(total=config.num_seconds, desc=\"Simulating\")\n",
    "while not done[\"__all__\"]:\n",
    "    actions = {\n",
    "        ts_id: env.action_spaces(ts_id).sample()\n",
    "        for ts_id in env.ts_ids\n",
    "    }\n",
    "    state, reward, done, _ = env.step(actions)\n",
    "    total_reward += sum(reward.values())\n",
    "    pbar.update(env.delta_time)\n",
    "\n",
    "env.close()\n",
    "print(f\"Total reward: {total_reward}\")"
   ]
  }
 ],
 "metadata": {
  "kernelspec": {
   "display_name": "sumo",
   "language": "python",
   "name": "python3"
  },
  "language_info": {
   "codemirror_mode": {
    "name": "ipython",
    "version": 3
   },
   "file_extension": ".py",
   "mimetype": "text/x-python",
   "name": "python",
   "nbconvert_exporter": "python",
   "pygments_lexer": "ipython3",
   "version": "3.11.5"
  }
 },
 "nbformat": 4,
 "nbformat_minor": 2
}
